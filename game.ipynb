{
 "cells": [
  {
   "cell_type": "code",
   "execution_count": null,
   "metadata": {},
   "outputs": [],
   "source": [
    "import pandas as pd\n",
    "import numpy as np\n",
    "import panel as pn\n",
    "import random\n",
    "\n",
    "pn.extension()\n",
    "\n",
    "num_max = 100\n",
    "\n",
    "CSV_FILE = ('game_data.csv')\n",
    "\n",
    "def get_data():\n",
    "    return pd.read_csv(CSV_FILE)\n",
    "\n",
    "def write_data(df):\n",
    "    pd.DataFrame.to_csv(df)\n"
   ]
  },
  {
   "cell_type": "code",
   "execution_count": null,
   "metadata": {},
   "outputs": [],
   "source": [
    "df = get_data()\n",
    "\n",
    "df.head()"
   ]
  },
  {
   "cell_type": "code",
   "execution_count": null,
   "metadata": {},
   "outputs": [],
   "source": [
    "players = df.player_name.unique()\n",
    "print(players)\n",
    "\n",
    "player_select = pn.widgets.Select(\n",
    "    options=sorted(players)\n",
    ")\n",
    "\n",
    "int_input = pn.widgets.IntInput(name='Guess a number between 1 and 100', value=50, step=1, start=1, end=100, description=f'Guess a number between 1 and {num_max}: ')\n",
    "\n",
    "start_button = pn.widgets.Button(name='Start Game', button_type='primary')\n",
    "#guess_button = pn.widgets.Button(name='Guess', button_type='primary', disabled=True)"
   ]
  },
  {
   "cell_type": "code",
   "execution_count": null,
   "metadata": {},
   "outputs": [],
   "source": [
    "def guess(player, guessed_number):\n",
    "    #guessing=True\n",
    "    #guess_button.disabled=False\n",
    "    random_number = random.randint(1,num_max)\n",
    "    #guess = 0\n",
    "    tmp_guess = 0\n",
    "    \n",
    "    print(random_number)\n",
    "\n",
    "    while guessed_number!=random_number:\n",
    "       # guessed_number = int_input.value\n",
    "        tmp_guess = guessed_number\n",
    "        tmp_correct = False\n",
    "        tmp_too_low = False\n",
    "        tmp_too_high = False\n",
    "\n",
    "        if guessed_number < random_number:\n",
    "            tmp_too_low = True\n",
    "           # tmp_df.loc[len(df.index)] = [player, tmp_guess, tmp_correct, tmp_too_high, tmp_too_low]\n",
    "            text= 'Sorry, guess again. Too low.'\n",
    "        elif guessed_number > random_number:\n",
    "            tmp_too_high = True\n",
    "           # df.loc[len(df.index)] = [player, tmp_guess, tmp_correct, tmp_too_high, tmp_too_low]\n",
    "            text=  'Sorry, guess again. Too high.'\n",
    "        \n",
    "        tmp_correct - True\n",
    "            #df.loc[len(df.index)] = [player, guessed_number, tmp_correct, tmp_too_high, tmp_too_low]\n",
    "        text=  f'Congratulations! You have guessed the number {random_number} correctly!'\n",
    "            #guess_button.disabled=True\n",
    "           #guessing=False"
   ]
  },
  {
   "cell_type": "code",
   "execution_count": null,
   "metadata": {},
   "outputs": [],
   "source": [
    "# def start(event):\n",
    "#     guess(player_select.value)\n",
    "    \n",
    "#start_button.on_click(start)\n",
    "guessing = pn.bind(guess, player=player_select, guessed_number=int_input)\n"
   ]
  },
  {
   "cell_type": "code",
   "execution_count": null,
   "metadata": {},
   "outputs": [],
   "source": [
    "#pn.Column(player_select,int_input).servable()\n",
    "pn.template.FastListTemplate(\n",
    "    title=\"Guess the Number\",\n",
    "    sidebar=[player_select],\n",
    "    main=[int_input, guessing, text],\n",
    "   # sidebar=[player_select, start_button],\n",
    "   # main=[int_input, text, guess_button],\n",
    ").servable()"
   ]
  }
 ],
 "metadata": {
  "kernelspec": {
   "display_name": "Python 3",
   "language": "python",
   "name": "python3"
  },
  "language_info": {
   "codemirror_mode": {
    "name": "ipython",
    "version": 3
   },
   "file_extension": ".py",
   "mimetype": "text/x-python",
   "name": "python",
   "nbconvert_exporter": "python",
   "pygments_lexer": "ipython3",
   "version": "3.12.4"
  }
 },
 "nbformat": 4,
 "nbformat_minor": 2
}
